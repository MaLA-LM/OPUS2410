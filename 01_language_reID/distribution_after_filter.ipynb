{
 "cells": [
  {
   "cell_type": "code",
   "execution_count": 73,
   "id": "new_cell",
   "metadata": {},
   "outputs": [],
   "source": [
    "import gspread\n",
    "from gspread_dataframe import get_as_dataframe\n",
    "import json\n",
    "import pandas as pd"
   ]
  },
  {
   "cell_type": "code",
   "execution_count": 74,
   "id": "b0ff2def",
   "metadata": {},
   "outputs": [],
   "source": [
    "def analyze_retention_by_tier(\n",
    "    target_worksheet_title: str,\n",
    "    sheet_url: str = \"https://docs.google.com/spreadsheets/d/1g52ckNkohDlzH0jUjCksR3EXxxJXAe7_XAhf1TGBjZo/edit?usp=sharing\",\n",
    "    resource_json_path: str = \"./language_source_classification.json\",\n",
    "    service_account_path: str = \"/scratch/project_462000941/members/zihao/rm4mt/rm4mt_eval/rm4mt-463314-3ce1280ee29c.json\"\n",
    ") -> pd.DataFrame:\n",
    "    \"\"\"Analyze retention rates by language tier pairs from a Google Sheet.\n",
    "    \n",
    "    Args:\n",
    "        target_worksheet_title: Title of the worksheet to analyze\n",
    "        sheet_url: URL of the Google Sheet\n",
    "        resource_json_path: Path to language resource classification JSON\n",
    "        service_account_path: Path to Google service account credentials\n",
    "        \n",
    "    Returns:\n",
    "        DataFrame with retention statistics by tier pairs\n",
    "    \"\"\"\n",
    "    gc = gspread.service_account(filename=service_account_path)\n",
    "    spreadsheet = gc.open_by_url(sheet_url)\n",
    "    \n",
    "    # Load worksheet data\n",
    "    ws_data = {}\n",
    "    for worksheet in spreadsheet.worksheets():\n",
    "        df = get_as_dataframe(worksheet)\n",
    "        df = df.dropna(how='all')\n",
    "        ws_data[worksheet.title] = df\n",
    "\n",
    "    df = ws_data[target_worksheet_title]\n",
    "    df = df[df['lang_pair'] != \"ALL\"].copy()\n",
    "\n",
    "    # Load language tiers\n",
    "    with open(resource_json_path, \"r\", encoding=\"utf-8\") as f:\n",
    "        resource_tiers = json.load(f)\n",
    "    resource_labels = [\"low\", \"low\", \"mid\", \"mid\", \"high\", \"high\"]\n",
    "\n",
    "    lang2tier = {}\n",
    "    for idx, d in enumerate(resource_tiers):\n",
    "        for code in d.keys():\n",
    "            lang2tier[code] = resource_labels[idx]\n",
    "\n",
    "    def get_tiers(row):\n",
    "        src, tgt = row['lang_pair'].split('-')\n",
    "        tier_src = lang2tier.get(src, \"unknown\")\n",
    "        tier_tgt = lang2tier.get(tgt, \"unknown\")\n",
    "        return pd.Series([src, tgt, tier_src, tier_tgt])\n",
    "\n",
    "    df[['src_lang', 'tgt_lang', 'src_tier', 'tgt_tier']] = df.apply(get_tiers, axis=1)\n",
    "    df['tier_pair'] = df['src_tier'] + '-' + df['tgt_tier']\n",
    "\n",
    "    # Calculate retention stats\n",
    "    stats = (\n",
    "        df.groupby('tier_pair')\n",
    "        .agg(\n",
    "            pre_count_sum=('pre_count', 'sum'),\n",
    "            post_count_sum=('post_count', 'sum')\n",
    "        )\n",
    "        .reset_index()\n",
    "    )\n",
    "\n",
    "    stats['retention_rate'] = stats.apply(\n",
    "        lambda r: r['post_count_sum'] / r['pre_count_sum'] if r['pre_count_sum'] > 0 else 0,\n",
    "        axis=1\n",
    "    )\n",
    "\n",
    "    return stats.sort_values('retention_rate')"
   ]
  },
  {
   "cell_type": "code",
   "execution_count": 75,
   "id": "7a275dce",
   "metadata": {},
   "outputs": [
    {
     "name": "stdout",
     "output_type": "stream",
     "text": [
      "   tier_pair pre_count_sum post_count_sum  retention_rate\n",
      "7    mid-low     432905064      180328877        0.416555\n",
      "5    low-mid     324428479      150201385        0.462972\n",
      "8    mid-mid    3823600614     1811186350        0.473686\n",
      "3   low-high     775092270      373482089        0.481855\n",
      "4    low-low     224224154      115882132        0.516814\n",
      "2   high-mid   10952463269     5897156431        0.538432\n",
      "1   high-low    2213934690     1241822666        0.560912\n",
      "6   mid-high   11244512235     7308911293        0.649998\n",
      "0  high-high   32681289933    23409707510        0.716303\n"
     ]
    }
   ],
   "source": [
    "stats = analyze_retention_by_tier(\"mala-opus-dedup-2410-ReLID-by-GlotLID-Threshold-0_9\")\n",
    "print(stats)"
   ]
  },
  {
   "cell_type": "code",
   "execution_count": 76,
   "id": "895020b1",
   "metadata": {},
   "outputs": [
    {
     "name": "stdout",
     "output_type": "stream",
     "text": [
      "   tier_pair pre_count_sum post_count_sum  retention_rate\n",
      "7    mid-low     432905064      161737708        0.373610\n",
      "3   low-high     775092270      307678358        0.396957\n",
      "8    mid-mid    3823600614     1624400984        0.424835\n",
      "5    low-mid     324428479      140446087        0.432903\n",
      "2   high-mid   10952463269     4799343593        0.438198\n",
      "1   high-low    2213934690      977745025        0.441632\n",
      "4    low-low     224224154      114697284        0.511530\n",
      "6   mid-high   11244512235     5812298130        0.516901\n",
      "0  high-high   32681289933    16927493296        0.517957\n"
     ]
    }
   ],
   "source": [
    "stats = analyze_retention_by_tier(\"mala-opus-dedup-2410-ReLID-by-ConLID-Threshold-0_9\")\n",
    "print(stats)"
   ]
  },
  {
   "cell_type": "code",
   "execution_count": null,
   "id": "eeb0e166",
   "metadata": {},
   "outputs": [],
   "source": []
  }
 ],
 "metadata": {
  "kernelspec": {
   "display_name": "Python 3",
   "language": "python",
   "name": "python3"
  },
  "language_info": {
   "codemirror_mode": {
    "name": "ipython",
    "version": 3
   },
   "file_extension": ".py",
   "mimetype": "text/x-python",
   "name": "python",
   "nbconvert_exporter": "python",
   "pygments_lexer": "ipython3",
   "version": "3.12.9"
  }
 },
 "nbformat": 4,
 "nbformat_minor": 5
}
